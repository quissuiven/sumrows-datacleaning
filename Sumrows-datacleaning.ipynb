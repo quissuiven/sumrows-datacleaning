{
 "cells": [
  {
   "cell_type": "code",
   "execution_count": 1,
   "metadata": {},
   "outputs": [],
   "source": [
    "import pandas as pd"
   ]
  },
  {
   "cell_type": "code",
   "execution_count": 123,
   "metadata": {},
   "outputs": [],
   "source": [
    "xls = pd.ExcelFile(r'C:\\Users\\Hong.Wen.Tai\\Downloads\\sumrows.xlsx')"
   ]
  },
  {
   "cell_type": "code",
   "execution_count": 216,
   "metadata": {},
   "outputs": [],
   "source": [
    "final_df = pd.DataFrame()"
   ]
  },
  {
   "cell_type": "code",
   "execution_count": 217,
   "metadata": {},
   "outputs": [],
   "source": [
    "def readSheet(sheetno, accumulate_df):\n",
    "    df = pd.read_excel(xls,sheetno,skiprows = [0,2])\n",
    "    df = df.drop(df.columns[0], axis=1)    #drop column\n",
    "    df = df.replace(\"STOP\", 0)\n",
    "    df = df.replace(\"A/H\", 0)\n",
    "    df = df.replace(\"A/S\", 0)\n",
    "    df = df.replace(\"AS\", 0)\n",
    "    df = df.replace(\"AH\", 0)\n",
    "    df = df.replace(\"a/s\", 0)\n",
    "    a = df.sum(axis = 1)\n",
    "    accumulate_df = pd.concat([accumulate_df,a],axis = 1)\n",
    "    return accumulate_df\n",
    "    \n",
    "for i in range(0,46):\n",
    "    final_df = readSheet(i, final_df)"
   ]
  },
  {
   "cell_type": "code",
   "execution_count": 218,
   "metadata": {},
   "outputs": [],
   "source": [
    "def readSheet2(sheetno, accumulate_df):\n",
    "    df = pd.read_excel(xls,sheetno,skiprows = [0,2])\n",
    "    df = df.drop(df.columns[0], axis=1)    #drop column\n",
    "    df = df.drop(df.columns[0], axis=1)    #drop additional date column\n",
    "    df = df.replace(\"STOP\", 0)\n",
    "    df = df.replace(\"A/H\", 0)\n",
    "    df = df.replace(\"A/S\", 0)\n",
    "    df = df.replace(\"AS\", 0)\n",
    "    df = df.replace(\"AH\", 0)\n",
    "    df = df.replace(\"a/s\", 0)\n",
    "    a = df.sum(axis = 1) \n",
    "    accumulate_df = pd.concat([accumulate_df,a],axis = 1)\n",
    "    return accumulate_df\n",
    "\n",
    "for i in range(46,61):\n",
    "    final_df = readSheet2(i, final_df)"
   ]
  },
  {
   "cell_type": "code",
   "execution_count": null,
   "metadata": {},
   "outputs": [],
   "source": [
    "filename = 'sumrows_cleaned.xlsx'\n",
    "\n",
    "final_df.to_excel(filename,index=False)\n",
    "\n",
    "print('Saved file: ' + filename)"
   ]
  }
 ],
 "metadata": {
  "kernelspec": {
   "display_name": "Python 3",
   "language": "python",
   "name": "python3"
  },
  "language_info": {
   "codemirror_mode": {
    "name": "ipython",
    "version": 3
   },
   "file_extension": ".py",
   "mimetype": "text/x-python",
   "name": "python",
   "nbconvert_exporter": "python",
   "pygments_lexer": "ipython3",
   "version": "3.7.3"
  }
 },
 "nbformat": 4,
 "nbformat_minor": 2
}
